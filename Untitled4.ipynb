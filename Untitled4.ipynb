{
  "nbformat": 4,
  "nbformat_minor": 0,
  "metadata": {
    "colab": {
      "provenance": [],
      "authorship_tag": "ABX9TyO6M22lL2nnEQFi2oGcwQUN",
      "include_colab_link": true
    },
    "kernelspec": {
      "name": "python3",
      "display_name": "Python 3"
    },
    "language_info": {
      "name": "python"
    }
  },
  "cells": [
    {
      "cell_type": "markdown",
      "metadata": {
        "id": "view-in-github",
        "colab_type": "text"
      },
      "source": [
        "<a href=\"https://colab.research.google.com/github/HunterDevon/Aula_Bootstrap/blob/main/Untitled4.ipynb\" target=\"_parent\"><img src=\"https://colab.research.google.com/assets/colab-badge.svg\" alt=\"Open In Colab\"/></a>"
      ]
    },
    {
      "cell_type": "code",
      "execution_count": null,
      "metadata": {
        "colab": {
          "base_uri": "https://localhost:8080/"
        },
        "id": "d2j--MT-14Fw",
        "outputId": "71d663db-8d7c-4e4d-fbe5-8d7a5736b7a1"
      },
      "outputs": [
        {
          "output_type": "stream",
          "name": "stdout",
          "text": [
            "[2008, 2003, 1999, 1997, 1994, 1994, 1993, 1972, 1966, 1962]\n"
          ]
        }
      ],
      "source": [
        "years = [1994, 1972, 2008, 1993, 2003, 1994, 1966, 1999, 1962, 1997]\n",
        "years_sorted = sorted(years, reverse=True)\n",
        "print(years_sorted) "
      ]
    },
    {
      "cell_type": "code",
      "source": [
        "beatles = ['John Lennon', 'Paul McCartney', 'Ringo Starr', 'George Harrison']\n",
        "# encontrando o índice do elemento 'Paul McCartney' na lista\n",
        "idx = beatles.index('Paul McCartney')\n",
        "print(idx) "
      ],
      "metadata": {
        "colab": {
          "base_uri": "https://localhost:8080/"
        },
        "id": "VU6V8LGXDVV8",
        "outputId": "f0af760c-4008-4815-c153-6fd82d9db546"
      },
      "execution_count": null,
      "outputs": [
        {
          "output_type": "stream",
          "name": "stdout",
          "text": [
            "1\n"
          ]
        }
      ]
    },
    {
      "cell_type": "code",
      "source": [
        "rhcp = ['Anthony Kiedis', 'Flea', 'John Frusciante', 'Chad Smith']\n",
        "ind = rhcp.index('John Frusciante')\n",
        "guitarist_idx = ind\n",
        "print(guitarist_idx)"
      ],
      "metadata": {
        "colab": {
          "base_uri": "https://localhost:8080/"
        },
        "id": "YzEvPg0hee8f",
        "outputId": "1eb4dd36-c8d5-42b0-9082-35810b37ac01"
      },
      "execution_count": null,
      "outputs": [
        {
          "output_type": "stream",
          "name": "stdout",
          "text": [
            "2\n"
          ]
        }
      ]
    },
    {
      "cell_type": "code",
      "source": [
        "phrase = 'Cuckoo, cuckoo, cuckoo, cuckoo.'\n",
        "res = phrase.split() # `res` irá armazenar a lista de strings\n",
        "print(res)\n",
        "print(len(res)) "
      ],
      "metadata": {
        "id": "gIs_hAknF2ye",
        "outputId": "b780a642-b094-4b94-9714-7e7fc3ff7725",
        "colab": {
          "base_uri": "https://localhost:8080/"
        }
      },
      "execution_count": null,
      "outputs": [
        {
          "output_type": "stream",
          "name": "stdout",
          "text": [
            "['Cuckoo,', 'cuckoo,', 'cuckoo,', 'cuckoo.']\n",
            "4\n"
          ]
        }
      ]
    },
    {
      "cell_type": "code",
      "source": [
        "phrase = 'Cuckoo, cuckoo, cuckoo, cuckoo.'\n",
        "res = phrase.split() # `res` irá armazenar a lista de strings\n",
        "print(res)\n",
        "print(len(res)) "
      ],
      "metadata": {
        "colab": {
          "base_uri": "https://localhost:8080/"
        },
        "id": "_8_jTdXNUNIL",
        "outputId": "13557ed3-5ef5-444a-a5cf-5284e5bd60c6"
      },
      "execution_count": null,
      "outputs": [
        {
          "output_type": "stream",
          "name": "stdout",
          "text": [
            "['Cuckoo,', 'cuckoo,', 'cuckoo,', 'cuckoo.']\n",
            "4\n"
          ]
        }
      ]
    },
    {
      "cell_type": "code",
      "source": [
        "phrase = 'Uh-oh, uh-oh, uh-oh, uh-oh.'\n",
        "res = phrase.split('-') # passando a string de separador para o método\n",
        "print(res) "
      ],
      "metadata": {
        "colab": {
          "base_uri": "https://localhost:8080/"
        },
        "id": "6WzhI5OSURYy",
        "outputId": "489dade1-0b87-431a-de9b-2c66fa612d83"
      },
      "execution_count": null,
      "outputs": [
        {
          "output_type": "stream",
          "name": "stdout",
          "text": [
            "['Uh', 'oh, uh', 'oh, uh', 'oh, uh', 'oh.']\n"
          ]
        }
      ]
    },
    {
      "cell_type": "code",
      "source": [
        "words = ['Max\\'s', 'favorite', 'film', 'is', 'The', 'Graduate.']\n",
        "phrase = ' '.join(words) # forma uma string a partir dos elementos, separados por espaços\n",
        "print(phrase) "
      ],
      "metadata": {
        "colab": {
          "base_uri": "https://localhost:8080/"
        },
        "id": "yogGus4AUUOS",
        "outputId": "9ddca4e4-2115-4c69-e68c-cdcd2e848f94"
      },
      "execution_count": null,
      "outputs": [
        {
          "output_type": "stream",
          "name": "stdout",
          "text": [
            "Max's favorite film is The Graduate.\n"
          ]
        }
      ]
    },
    {
      "cell_type": "code",
      "source": [
        "phrase = 'Aladdin#Esmeralda#Hercules#Mulan'\n",
        "words = phrase.split('#')\n",
        "print(words)"
      ],
      "metadata": {
        "colab": {
          "base_uri": "https://localhost:8080/"
        },
        "id": "cYNj7SBZUWfS",
        "outputId": "303f9a8d-6297-43e0-cc53-85affb884532"
      },
      "execution_count": null,
      "outputs": [
        {
          "output_type": "stream",
          "name": "stdout",
          "text": [
            "['Aladdin', 'Esmeralda', 'Hercules', 'Mulan']\n"
          ]
        }
      ]
    },
    {
      "cell_type": "code",
      "source": [
        "heroes = ['Homem-Aranha', 'Batman', 'Superman', 'Homem de Ferro']\n",
        "comparison = heroes# escreva seu código aqui\n",
        "print(comparison) "
      ],
      "metadata": {
        "colab": {
          "base_uri": "https://localhost:8080/"
        },
        "id": "UYsHtJ_NXF_b",
        "outputId": "88b059ef-70fd-45d8-b704-697a88ee94e9"
      },
      "execution_count": null,
      "outputs": [
        {
          "output_type": "stream",
          "name": "stdout",
          "text": [
            "['Homem-Aranha', 'Batman', 'Superman', 'Homem de Ferro']\n"
          ]
        }
      ]
    },
    {
      "cell_type": "code",
      "source": [
        "heroes = ['Homem-Aranha', 'Batman', 'Superman', 'Homem de Ferro']\n",
        "comparison = '>'.join(heroes)\n",
        "print(comparison) "
      ],
      "metadata": {
        "id": "79ChjtJxYNC1",
        "outputId": "05aab4de-6754-4056-821a-357b7991a59a",
        "colab": {
          "base_uri": "https://localhost:8080/"
        }
      },
      "execution_count": null,
      "outputs": [
        {
          "output_type": "stream",
          "name": "stdout",
          "text": [
            "Homem-Aranha>Batman>Superman>Homem de Ferro\n"
          ]
        }
      ]
    },
    {
      "cell_type": "code",
      "source": [
        "# A variável \"film_genres\" armazena a lista de gêneros de filmes.\n",
        "film_genres = ['scifi','drama','thriller','comedy','action']\n",
        "for value in film_genres:\n",
        "    print(value) "
      ],
      "metadata": {
        "colab": {
          "base_uri": "https://localhost:8080/"
        },
        "id": "vCu-gGThuFDh",
        "outputId": "5a5d29ea-0a06-4af4-d63b-13b989b68d08"
      },
      "execution_count": null,
      "outputs": [
        {
          "output_type": "stream",
          "name": "stdout",
          "text": [
            "scifi\n",
            "drama\n",
            "thriller\n",
            "comedy\n",
            "action\n"
          ]
        }
      ]
    },
    {
      "cell_type": "code",
      "source": [
        "# \"actors\" significa 'atores/artistas'\n",
        "actors = ['John Travolta', 'Bonnie Hunt', 'Jason Bateman', 'Idris Elba']\n",
        "for actor in actors:\n",
        "    print(actor)"
      ],
      "metadata": {
        "colab": {
          "base_uri": "https://localhost:8080/"
        },
        "id": "yPd0UskWEXMR",
        "outputId": "30a7352b-1e07-4e9e-ff40-e95d73b124e0"
      },
      "execution_count": null,
      "outputs": [
        {
          "output_type": "stream",
          "name": "stdout",
          "text": [
            "John Travolta\n",
            "Bonnie Hunt\n",
            "Jason Bateman\n",
            "Idris Elba\n"
          ]
        }
      ]
    },
    {
      "cell_type": "code",
      "source": [
        "elements = [42, 'Olá', 0.5, -999, 'mundo']\n",
        "for elements in elements:\n",
        "    print(elements)"
      ],
      "metadata": {
        "colab": {
          "base_uri": "https://localhost:8080/"
        },
        "id": "O7LKamSYEcGZ",
        "outputId": "9567dd06-f719-44f0-bfb3-fee3e6276ce2"
      },
      "execution_count": null,
      "outputs": [
        {
          "output_type": "stream",
          "name": "stdout",
          "text": [
            "42\n",
            "Olá\n",
            "0.5\n",
            "-999\n",
            "mundo\n"
          ]
        }
      ]
    },
    {
      "cell_type": "code",
      "source": [
        "elements = [42, 'Olá', 0.5, -999, 'mundo']\n",
        "for element in elements:\n",
        "    print(element)"
      ],
      "metadata": {
        "colab": {
          "base_uri": "https://localhost:8080/"
        },
        "id": "k5k0GSGjYDYX",
        "outputId": "c1e1e95d-1b8a-4a42-9551-6afa19b17f02"
      },
      "execution_count": null,
      "outputs": [
        {
          "output_type": "stream",
          "name": "stdout",
          "text": [
            "42\n",
            "Olá\n",
            "0.5\n",
            "-999\n",
            "mundo\n"
          ]
        }
      ]
    },
    {
      "cell_type": "code",
      "source": [
        "elements = [42, 'Olá', 0.5, -999, 'mundo']\n",
        "for elements in elements:\n",
        "    print(elements)"
      ],
      "metadata": {
        "colab": {
          "base_uri": "https://localhost:8080/"
        },
        "id": "_si2jgDDYGUO",
        "outputId": "09b46498-42ed-4319-bfb4-8068b2b108b8"
      },
      "execution_count": null,
      "outputs": [
        {
          "output_type": "stream",
          "name": "stdout",
          "text": [
            "42\n",
            "Olá\n",
            "0.5\n",
            "-999\n",
            "mundo\n"
          ]
        }
      ]
    },
    {
      "cell_type": "code",
      "source": [
        "review = 'The Emoji Movie left a lot to be desired. Two very generous stars.'\n",
        "\n",
        "for symbol in review:\n",
        "    print(symbol)"
      ],
      "metadata": {
        "colab": {
          "base_uri": "https://localhost:8080/"
        },
        "id": "lYTh1yYDYcRv",
        "outputId": "dffe1971-03d5-4bb3-be82-556f6f227e1d"
      },
      "execution_count": null,
      "outputs": [
        {
          "output_type": "stream",
          "name": "stdout",
          "text": [
            "T\n",
            "h\n",
            "e\n",
            " \n",
            "E\n",
            "m\n",
            "o\n",
            "j\n",
            "i\n",
            " \n",
            "M\n",
            "o\n",
            "v\n",
            "i\n",
            "e\n",
            " \n",
            "l\n",
            "e\n",
            "f\n",
            "t\n",
            " \n",
            "a\n",
            " \n",
            "l\n",
            "o\n",
            "t\n",
            " \n",
            "t\n",
            "o\n",
            " \n",
            "b\n",
            "e\n",
            " \n",
            "d\n",
            "e\n",
            "s\n",
            "i\n",
            "r\n",
            "e\n",
            "d\n",
            ".\n",
            " \n",
            "T\n",
            "w\n",
            "o\n",
            " \n",
            "v\n",
            "e\n",
            "r\n",
            "y\n",
            " \n",
            "g\n",
            "e\n",
            "n\n",
            "e\n",
            "r\n",
            "o\n",
            "u\n",
            "s\n",
            " \n",
            "s\n",
            "t\n",
            "a\n",
            "r\n",
            "s\n",
            ".\n"
          ]
        }
      ]
    },
    {
      "cell_type": "code",
      "source": [],
      "metadata": {
        "id": "xy-rDAgDYg4f"
      },
      "execution_count": null,
      "outputs": []
    },
    {
      "cell_type": "code",
      "source": [
        "message_japanese = '機械翻訳は通常良くありません'\n",
        "\n",
        "for symbol  in message_japanese:\n",
        "      print(symbol )\n",
        "# escreva o código aqui"
      ],
      "metadata": {
        "colab": {
          "base_uri": "https://localhost:8080/"
        },
        "id": "PccpkLiqY3wv",
        "outputId": "51936a60-36d5-471c-93c8-f290df1decdd"
      },
      "execution_count": null,
      "outputs": [
        {
          "output_type": "stream",
          "name": "stdout",
          "text": [
            "機\n",
            "械\n",
            "翻\n",
            "訳\n",
            "は\n",
            "通\n",
            "常\n",
            "良\n",
            "く\n",
            "あ\n",
            "り\n",
            "ま\n",
            "せ\n",
            "ん\n"
          ]
        }
      ]
    },
    {
      "cell_type": "code",
      "source": [],
      "metadata": {
        "id": "0NoddrdDY403"
      },
      "execution_count": null,
      "outputs": []
    },
    {
      "cell_type": "code",
      "source": [
        "for i in range(10):\n",
        "    print('Executando o passo ', i) "
      ],
      "metadata": {
        "colab": {
          "base_uri": "https://localhost:8080/"
        },
        "id": "rCZ-2UjolwO3",
        "outputId": "eedef412-449c-47bc-a3a8-8eedf536b049"
      },
      "execution_count": null,
      "outputs": [
        {
          "output_type": "stream",
          "name": "stdout",
          "text": [
            "Executando o passo  0\n",
            "Executando o passo  1\n",
            "Executando o passo  2\n",
            "Executando o passo  3\n",
            "Executando o passo  4\n",
            "Executando o passo  5\n",
            "Executando o passo  6\n",
            "Executando o passo  7\n",
            "Executando o passo  8\n",
            "Executando o passo  9\n"
          ]
        }
      ]
    },
    {
      "cell_type": "code",
      "source": [
        "movies = ['The Shawshank Redemption', 'The Godfather', 'The Dark Knight', 'Schindler\\'s List']\n",
        "\n",
        "for i in range(len(movies)): \n",
        "    print('Título original: ', movies[i]) "
      ],
      "metadata": {
        "colab": {
          "base_uri": "https://localhost:8080/"
        },
        "id": "htmXeIGLlrQw",
        "outputId": "1105ebb8-9716-419f-cd4f-f381932d4412"
      },
      "execution_count": null,
      "outputs": [
        {
          "output_type": "stream",
          "name": "stdout",
          "text": [
            "Título original:  The Shawshank Redemption\n",
            "Título original:  The Godfather\n",
            "Título original:  The Dark Knight\n",
            "Título original:  Schindler's List\n"
          ]
        }
      ]
    },
    {
      "cell_type": "code",
      "source": [
        "prices = [15, 29, 74, 32]\n",
        "\n",
        "for i in range(len(prices)):\n",
        "    prices[i] -= 10\n",
        "print(prices)"
      ],
      "metadata": {
        "id": "hKdonz1Imot4",
        "outputId": "b785a3c4-f060-4d86-f88f-c9f43ee538d7",
        "colab": {
          "base_uri": "https://localhost:8080/"
        }
      },
      "execution_count": null,
      "outputs": [
        {
          "output_type": "stream",
          "name": "stdout",
          "text": [
            "[5, 19, 64, 22]\n"
          ]
        }
      ]
    },
    {
      "cell_type": "code",
      "source": [
        "movies_duration = [142, 175, 152, 195, 201]\n",
        "\n",
        "for i in range(len(movies_duration)):\n",
        "    movies_duration[i] -= 10\n",
        "print(movies_duration)"
      ],
      "metadata": {
        "colab": {
          "base_uri": "https://localhost:8080/"
        },
        "id": "pn7t3gTxWcdB",
        "outputId": "24d9626b-4917-4fde-ea52-340b358cdfa8"
      },
      "execution_count": null,
      "outputs": [
        {
          "output_type": "stream",
          "name": "stdout",
          "text": [
            "[132, 165, 142, 185, 191]\n"
          ]
        }
      ]
    },
    {
      "cell_type": "code",
      "source": [
        "movies_duration = [142, 175, 152, 195, 201]\n",
        "for i in range(len(movies_duration)):\n",
        "    movies_duration[i] += 2\n",
        "print(movies_duration)"
      ],
      "metadata": {
        "id": "2se4iMgY05yQ",
        "outputId": "a3cb59e7-7729-4b87-d521-b512b17c761a",
        "colab": {
          "base_uri": "https://localhost:8080/"
        }
      },
      "execution_count": null,
      "outputs": [
        {
          "output_type": "stream",
          "name": "stdout",
          "text": [
            "[144, 177, 154, 197, 203]\n"
          ]
        }
      ]
    }
  ]
}